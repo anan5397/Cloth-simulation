{
 "cells": [
  {
   "cell_type": "code",
   "execution_count": 2,
   "metadata": {},
   "outputs": [
    {
     "data": {
      "text/plain": [
       "(6, 0)"
      ]
     },
     "execution_count": 2,
     "metadata": {},
     "output_type": "execute_result"
    }
   ],
   "source": [
    "import pygame\n",
    "from math import pi\n",
    "pygame.init()"
   ]
  },
  {
   "cell_type": "code",
   "execution_count": 3,
   "metadata": {
    "collapsed": true
   },
   "outputs": [],
   "source": [
    "BLACK = (  0,   0,   0)\n",
    "WHITE = (255, 255, 255)\n",
    "BLUE =  (  0,   0, 255)\n",
    "GREEN = (  0, 255,   0)\n",
    "RED =   (255,   0,   0)"
   ]
  },
  {
   "cell_type": "code",
   "execution_count": 4,
   "metadata": {
    "collapsed": true
   },
   "outputs": [],
   "source": [
    "size = [400, 300]\n",
    "screen = pygame.display.set_mode(size)"
   ]
  },
  {
   "cell_type": "code",
   "execution_count": null,
   "metadata": {},
   "outputs": [],
   "source": []
  },
  {
   "cell_type": "code",
   "execution_count": 1,
   "metadata": {},
   "outputs": [
    {
     "ename": "NameError",
     "evalue": "name 'pygame' is not defined",
     "output_type": "error",
     "traceback": [
      "\u001b[1;31m---------------------------------------------------------------------------\u001b[0m",
      "\u001b[1;31mNameError\u001b[0m                                 Traceback (most recent call last)",
      "\u001b[1;32m<ipython-input-1-fca87ff7566c>\u001b[0m in \u001b[0;36m<module>\u001b[1;34m()\u001b[0m\n\u001b[0;32m      1\u001b[0m \u001b[0mdone\u001b[0m \u001b[1;33m=\u001b[0m \u001b[0mFalse\u001b[0m\u001b[1;33m\u001b[0m\u001b[0m\n\u001b[1;32m----> 2\u001b[1;33m \u001b[0mclock\u001b[0m \u001b[1;33m=\u001b[0m \u001b[0mpygame\u001b[0m\u001b[1;33m.\u001b[0m\u001b[0mtime\u001b[0m\u001b[1;33m.\u001b[0m\u001b[0mClock\u001b[0m\u001b[1;33m(\u001b[0m\u001b[1;33m)\u001b[0m\u001b[1;33m\u001b[0m\u001b[0m\n\u001b[0m\u001b[0;32m      3\u001b[0m \u001b[1;32mwhile\u001b[0m \u001b[1;32mnot\u001b[0m \u001b[0mdone\u001b[0m\u001b[1;33m:\u001b[0m\u001b[1;33m\u001b[0m\u001b[0m\n\u001b[0;32m      4\u001b[0m \u001b[1;33m\u001b[0m\u001b[0m\n\u001b[0;32m      5\u001b[0m     \u001b[1;31m# This limits the while loop to a max of 10 times per second.\u001b[0m\u001b[1;33m\u001b[0m\u001b[1;33m\u001b[0m\u001b[0m\n",
      "\u001b[1;31mNameError\u001b[0m: name 'pygame' is not defined"
     ]
    }
   ],
   "source": [
    "done = False\n",
    "clock = pygame.time.Clock()\n",
    "while not done:\n",
    " \n",
    "    # This limits the while loop to a max of 10 times per second.\n",
    "    # Leave this out and we will use all CPU we can.\n",
    "    clock.tick(10)\n",
    "     \n",
    "    for event in pygame.event.get(): # User did something\n",
    "        if event.type == pygame.QUIT: # If user clicked close\n",
    "            done=True # Flag that we are done so we exit this loop\n",
    " \n",
    "    # All drawing code happens after the for loop and but\n",
    "    # inside the main while done==False loop.\n",
    "     \n",
    "    # Clear the screen and set the screen background\n",
    "    screen.fill(WHITE)\n",
    " \n",
    "    # Draw on the screen a GREEN line from (0,0) to (50.75) \n",
    "    # 5 pixels wide.\n",
    "    pygame.draw.line(screen, GREEN, [0, 0], [50,30], 5)\n",
    " \n",
    "    # Draw on the screen a GREEN line from (0,0) to (50.75) \n",
    "    # 5 pixels wide.\n",
    "    pygame.draw.lines(screen, BLACK, False, [[0, 80], [50, 90], [200, 80], [220, 30]], 5)\n",
    "    \n",
    "    # Draw on the screen a GREEN line from (0,0) to (50.75) \n",
    "    # 5 pixels wide.\n",
    "    pygame.draw.aaline(screen, GREEN, [0, 50],[50, 80], True)\n",
    "\n",
    "    # Draw a rectangle outline\n",
    "    pygame.draw.rect(screen, BLACK, [75, 10, 50, 20], 2)\n",
    "     \n",
    "    # Draw a solid rectangle\n",
    "    pygame.draw.rect(screen, BLACK, [150, 10, 50, 20])\n",
    "     \n",
    "    # Draw an ellipse outline, using a rectangle as the outside boundaries\n",
    "    pygame.draw.ellipse(screen, RED, [225, 10, 50, 20], 2) \n",
    "\n",
    "    # Draw an solid ellipse, using a rectangle as the outside boundaries\n",
    "    pygame.draw.ellipse(screen, RED, [300, 10, 50, 20]) \n",
    " \n",
    "    # This draws a triangle using the polygon command\n",
    "    pygame.draw.polygon(screen, BLACK, [[100, 100], [0, 200], [200, 200]], 5)\n",
    "  \n",
    "    # Draw an arc as part of an ellipse. \n",
    "    # Use radians to determine what angle to draw.\n",
    "    pygame.draw.arc(screen, BLACK,[210, 75, 150, 125], 0, pi/2, 2)\n",
    "    pygame.draw.arc(screen, GREEN,[210, 75, 150, 125], pi/2, pi, 2)\n",
    "    pygame.draw.arc(screen, BLUE, [210, 75, 150, 125], pi,3*pi/2, 2)\n",
    "    pygame.draw.arc(screen, RED,  [210, 75, 150, 125], 3*pi/2, 2*pi, 2)\n",
    "    \n",
    "    # Draw a circle\n",
    "    pygame.draw.circle(screen, BLUE, [60, 250], 40)\n",
    "    \n",
    "    # Go ahead and update the screen with what we've drawn.\n",
    "    # This MUST happen after all the other drawing commands.\n",
    "    pygame.display.flip()\n",
    "pygame.quit()"
   ]
  },
  {
   "cell_type": "code",
   "execution_count": 3,
   "metadata": {},
   "outputs": [],
   "source": [
    "import pygame\n",
    "from math import pi\n",
    "pygame.init()\n",
    "size1 = [800, 600]\n",
    "screen1 = pygame.display.set_mode(size1)\n",
    "BLACK = (  0,   0,   0)\n",
    "WHITE = (255, 255, 255)\n",
    "BLUE =  (  0,   0, 255)\n",
    "GREEN = (  0, 255,   0)\n",
    "RED =   (255,   0,   0)"
   ]
  },
  {
   "cell_type": "code",
   "execution_count": null,
   "metadata": {},
   "outputs": [],
   "source": [
    "\n",
    "done = False\n",
    "clock = pygame.time.Clock()\n",
    "while not done:\n",
    "    clock.tick(10)\n",
    "    pygame.draw.aaline(screen1, GREEN, [300, 200],[200, 300], True)\n",
    "    pygame.draw.aaline(screen1, RED, [500, 1000],[200, 300], True)\n",
    "\n",
    "    pygame.display.flip()\n",
    "pygame.quit()"
   ]
  },
  {
   "cell_type": "code",
   "execution_count": null,
   "metadata": {
    "collapsed": true
   },
   "outputs": [],
   "source": []
  }
 ],
 "metadata": {
  "kernelspec": {
   "display_name": "Python 2",
   "language": "python",
   "name": "python2"
  },
  "language_info": {
   "codemirror_mode": {
    "name": "ipython",
    "version": 2
   },
   "file_extension": ".py",
   "mimetype": "text/x-python",
   "name": "python",
   "nbconvert_exporter": "python",
   "pygments_lexer": "ipython2",
   "version": "2.7.13"
  }
 },
 "nbformat": 4,
 "nbformat_minor": 2
}
